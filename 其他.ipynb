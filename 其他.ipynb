{
 "cells": [
  {
   "cell_type": "markdown",
   "metadata": {},
   "source": [
    "### 出现一半的数\n",
    "数组中有一个数字出现的次数超过数组长度的一半，请找出这个数字。例如输入一个长度为9的数组{1,2,3,2,2,2,5,4,2}。由于数字2在数组中出现了5次，超过数组长度的一半，因此输出2。如果不存在则输出0。"
   ]
  },
  {
   "cell_type": "code",
   "execution_count": null,
   "metadata": {},
   "outputs": [],
   "source": [
    "def MoreThanHalfNum_Solution(numbers):\n",
    "    # write code here\n",
    "    numset = set(numbers) # 用set取出无重复的所有出现过的数字\n",
    "    numdict = {} \n",
    "    for num in numset:\n",
    "        numdict[num] = 0 # 构建字典\n",
    "    for i in numbers:\n",
    "        numdict[i] = numdict[i]+1 # 统计出现次数\n",
    "        if numdict[i]>len(numbers)/2: # 一旦发现目标就返回跳出\n",
    "            return i\n",
    "    return 0 # 没有发现目标说明不存在"
   ]
  },
  {
   "cell_type": "markdown",
   "metadata": {},
   "source": [
    "### 组成最小数\n",
    "输入一个正整数数组，把数组里所有数字拼接起来排成一个数，打印能拼接出的所有数字中最小的一个。例如输入数组{3，32，321}，则打印出这三个数字能排成的最小数字为321323。"
   ]
  },
  {
   "cell_type": "markdown",
   "metadata": {},
   "source": [
    "思路：实际上是一个排序问题，若 a＋b<b+a，a排在前面，然就定义这个排序规则之后进行排序就可以了"
   ]
  },
  {
   "cell_type": "code",
   "execution_count": 3,
   "metadata": {},
   "outputs": [
    {
     "name": "stdout",
     "output_type": "stream",
     "text": [
      "3441485\n"
     ]
    }
   ],
   "source": [
    "def PrintMinNumber(numbers):\n",
    "    # write code here\n",
    "    if numbers == []:\n",
    "        return \"\"\n",
    "    string_num = [str(num) for num in numbers]\n",
    "    for i in range(len(string_num)-1):\n",
    "        for j in range(len(string_num)-1):\n",
    "            AB = int(string_num[j]+string_num[j+1])\n",
    "            BA = int(string_num[j+1]+string_num[j])\n",
    "            if BA < AB:\n",
    "                temp = string_num[j]\n",
    "                string_num[j] = string_num[j+1]\n",
    "                string_num[j+1] = temp\n",
    "    res = ''\n",
    "    for i in string_num:\n",
    "        res = res + i\n",
    "    return int(res)\n",
    "\n",
    "print(PrintMinNumber([4,34,85,41]))"
   ]
  },
  {
   "cell_type": "code",
   "execution_count": null,
   "metadata": {},
   "outputs": [],
   "source": []
  }
 ],
 "metadata": {
  "kernelspec": {
   "display_name": "Python 3",
   "language": "python",
   "name": "python3"
  },
  "language_info": {
   "codemirror_mode": {
    "name": "ipython",
    "version": 3
   },
   "file_extension": ".py",
   "mimetype": "text/x-python",
   "name": "python",
   "nbconvert_exporter": "python",
   "pygments_lexer": "ipython3",
   "version": "3.6.6"
  },
  "toc": {
   "base_numbering": 1,
   "nav_menu": {},
   "number_sections": true,
   "sideBar": true,
   "skip_h1_title": false,
   "title_cell": "Table of Contents",
   "title_sidebar": "Contents",
   "toc_cell": false,
   "toc_position": {},
   "toc_section_display": true,
   "toc_window_display": false
  },
  "varInspector": {
   "cols": {
    "lenName": 16,
    "lenType": 16,
    "lenVar": 40
   },
   "kernels_config": {
    "python": {
     "delete_cmd_postfix": "",
     "delete_cmd_prefix": "del ",
     "library": "var_list.py",
     "varRefreshCmd": "print(var_dic_list())"
    },
    "r": {
     "delete_cmd_postfix": ") ",
     "delete_cmd_prefix": "rm(",
     "library": "var_list.r",
     "varRefreshCmd": "cat(var_dic_list()) "
    }
   },
   "types_to_exclude": [
    "module",
    "function",
    "builtin_function_or_method",
    "instance",
    "_Feature"
   ],
   "window_display": false
  }
 },
 "nbformat": 4,
 "nbformat_minor": 2
}
