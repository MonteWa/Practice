{
 "cells": [
  {
   "cell_type": "markdown",
   "metadata": {},
   "source": [
    "### 重建二叉树\n",
    "输入某二叉树的前序遍历和中序遍历的结果，请重建出该二叉树。假设输入的前序遍历和中序遍历的结果中都不含重复的数字。例如输入前序遍历序列{1,2,4,7,3,5,6,8}和中序遍历序列{4,7,2,1,5,3,8,6}，则重建二叉树并返回。"
   ]
  },
  {
   "cell_type": "code",
   "execution_count": 1,
   "metadata": {},
   "outputs": [],
   "source": [
    "# -*- coding:utf-8 -*-\n",
    "# class TreeNode:\n",
    "#     def __init__(self, x):\n",
    "#         self.val = x\n",
    "#         self.left = None\n",
    "#         self.right = None\n",
    "class Solution:\n",
    "    def reConstructBinaryTree(self, pre, tin):\n",
    "        if pre == [] or tin == []:\n",
    "            return None\n",
    "        val = pre[0]\n",
    "        root = TreeNode(val)\n",
    "        indx = tin.index(val)\n",
    "        tinleft = tin[ : indx]\n",
    "        tinright = tin[indx+1 : ] # python的特点，如果切片时index超出范围就会输出[]\n",
    "        preleft = pre[1:1+indx]\n",
    "        preright = pre[1+indx:]\n",
    "        root.left = self.reConstructBinaryTree(preleft,tinleft)\n",
    "        root.right = self.reConstructBinaryTree(preright,tinright)\n",
    "        return root"
   ]
  },
  {
   "cell_type": "markdown",
   "metadata": {},
   "source": [
    "### 搜索树转双向链表\n",
    "输入一棵二叉搜索树，将该二叉搜索树转换成一个排序的双向链表。要求不能创建任何新的结点，只能调整树中结点指针的指向。\n",
    "\n",
    "（可以用中序遍历，二叉搜索树的中序遍历）"
   ]
  },
  {
   "cell_type": "code",
   "execution_count": null,
   "metadata": {},
   "outputs": [],
   "source": [
    "# -*- coding:utf-8 -*-\n",
    "# class TreeNode:\n",
    "#     def __init__(self, x):\n",
    "#         self.val = x\n",
    "#         self.left = None\n",
    "#         self.right = None\n",
    "class Solution:\n",
    "    def Convert(self, pRootOfTree):\n",
    "        # write code here\n",
    "        if pRootOfTree == None: # 如果为空返回空\n",
    "            return None\n",
    "        if pRootOfTree.left == None and pRootOfTree.right == None: # 如果没有子节点返自己\n",
    "            return pRootOfTree\n",
    "        \n",
    "        left = self.Convert(pRootOfTree.left) # 将左子树转化为双链表，并返回链表头部\n",
    "        hl = left\n",
    "        if left!=None: # 当左子树不为空时\n",
    "            while hl.right != None: # 找到左子树的尾部\n",
    "                hl = hl.right\n",
    "            hl.right=pRootOfTree # 将链表尾部与root链接\n",
    "            pRootOfTree.left = hl\n",
    "        \n",
    "        right = self.Convert(pRootOfTree.right) # 将右子树转换为双链表，并返回链表头部\n",
    "        if right != None: # 当链表不为空时\n",
    "            pRootOfTree.right = right # 将root与链表链接\n",
    "            right.left = pRootOfTree\n",
    "        \n",
    "        return left if left else pRootOfTree # 返回链表的头部，这是在前面规定好的"
   ]
  }
 ],
 "metadata": {
  "kernelspec": {
   "display_name": "Python 3",
   "language": "python",
   "name": "python3"
  },
  "language_info": {
   "codemirror_mode": {
    "name": "ipython",
    "version": 3
   },
   "file_extension": ".py",
   "mimetype": "text/x-python",
   "name": "python",
   "nbconvert_exporter": "python",
   "pygments_lexer": "ipython3",
   "version": "3.6.6"
  },
  "toc": {
   "base_numbering": 1,
   "nav_menu": {},
   "number_sections": true,
   "sideBar": true,
   "skip_h1_title": false,
   "title_cell": "Table of Contents",
   "title_sidebar": "Contents",
   "toc_cell": false,
   "toc_position": {},
   "toc_section_display": true,
   "toc_window_display": false
  },
  "varInspector": {
   "cols": {
    "lenName": 16,
    "lenType": 16,
    "lenVar": 40
   },
   "kernels_config": {
    "python": {
     "delete_cmd_postfix": "",
     "delete_cmd_prefix": "del ",
     "library": "var_list.py",
     "varRefreshCmd": "print(var_dic_list())"
    },
    "r": {
     "delete_cmd_postfix": ") ",
     "delete_cmd_prefix": "rm(",
     "library": "var_list.r",
     "varRefreshCmd": "cat(var_dic_list()) "
    }
   },
   "types_to_exclude": [
    "module",
    "function",
    "builtin_function_or_method",
    "instance",
    "_Feature"
   ],
   "window_display": false
  }
 },
 "nbformat": 4,
 "nbformat_minor": 2
}
