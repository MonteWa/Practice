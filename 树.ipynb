{
 "cells": [
  {
   "cell_type": "markdown",
   "metadata": {},
   "source": [
    "### 重建二叉树\n",
    "输入某二叉树的前序遍历和中序遍历的结果，请重建出该二叉树。假设输入的前序遍历和中序遍历的结果中都不含重复的数字。例如输入前序遍历序列{1,2,4,7,3,5,6,8}和中序遍历序列{4,7,2,1,5,3,8,6}，则重建二叉树并返回。"
   ]
  },
  {
   "cell_type": "code",
   "execution_count": 1,
   "metadata": {},
   "outputs": [],
   "source": [
    "# -*- coding:utf-8 -*-\n",
    "# class TreeNode:\n",
    "#     def __init__(self, x):\n",
    "#         self.val = x\n",
    "#         self.left = None\n",
    "#         self.right = None\n",
    "class Solution:\n",
    "    def reConstructBinaryTree(self, pre, tin):\n",
    "        if pre == [] or tin == []:\n",
    "            return None\n",
    "        val = pre[0]\n",
    "        root = TreeNode(val)\n",
    "        indx = tin.index(val)\n",
    "        tinleft = tin[ : indx]\n",
    "        tinright = tin[indx+1 : ] # python的特点，如果切片时index超出范围就会输出[]\n",
    "        preleft = pre[1:1+indx]\n",
    "        preright = pre[1+indx:]\n",
    "        root.left = self.reConstructBinaryTree(preleft,tinleft)\n",
    "        root.right = self.reConstructBinaryTree(preright,tinright)\n",
    "        return root"
   ]
  },
  {
   "cell_type": "markdown",
   "metadata": {},
   "source": [
    "### 搜索树转双向链表\n",
    "输入一棵二叉搜索树，将该二叉搜索树转换成一个排序的双向链表。要求不能创建任何新的结点，只能调整树中结点指针的指向。\n",
    "\n",
    "（可以用中序遍历，二叉搜索树的中序遍历就是有序的）"
   ]
  },
  {
   "cell_type": "code",
   "execution_count": null,
   "metadata": {},
   "outputs": [],
   "source": [
    "# -*- coding:utf-8 -*-\n",
    "# class TreeNode:\n",
    "#     def __init__(self, x):\n",
    "#         self.val = x\n",
    "#         self.left = None\n",
    "#         self.right = None\n",
    "class Solution:\n",
    "    def Convert(self, pRootOfTree):\n",
    "        # write code here\n",
    "        if pRootOfTree == None: # 如果为空返回空\n",
    "            return None\n",
    "        if pRootOfTree.left == None and pRootOfTree.right == None: # 如果没有子节点返自己\n",
    "            return pRootOfTree\n",
    "        \n",
    "        left = self.Convert(pRootOfTree.left) # 将左子树转化为双链表，并返回链表头部\n",
    "        hl = left\n",
    "        if left!=None: # 当左子树不为空时\n",
    "            while hl.right != None: # 找到左子树的尾部\n",
    "                hl = hl.right\n",
    "            hl.right=pRootOfTree # 将链表尾部与root链接\n",
    "            pRootOfTree.left = hl\n",
    "        \n",
    "        right = self.Convert(pRootOfTree.right) # 将右子树转换为双链表，并返回链表头部\n",
    "        if right != None: # 当链表不为空时\n",
    "            pRootOfTree.right = right # 将root与链表链接\n",
    "            right.left = pRootOfTree\n",
    "        \n",
    "        return left if left else pRootOfTree # 返回链表的头部，这是在前面规定好的"
   ]
  },
  {
   "cell_type": "markdown",
   "metadata": {},
   "source": [
    "### 二叉树的深度\n",
    "输入一棵二叉树，求该树的深度。从根结点到叶结点依次经过的结点（含根、叶结点）形成树的一条路径，最长路径的长度为树的深度。"
   ]
  },
  {
   "cell_type": "code",
   "execution_count": null,
   "metadata": {},
   "outputs": [],
   "source": [
    "# 不使用递归的方法\n",
    "# -*- coding:utf-8 -*-\n",
    "# class TreeNode:\n",
    "#     def __init__(self, x):\n",
    "#         self.val = x\n",
    "#         self.left = None\n",
    "#         self.right = None\n",
    "class Solution:\n",
    "    def TreeDepth(self, pRoot):\n",
    "        if pRoot == None:\n",
    "            return 0\n",
    "        layer = [pRoot]\n",
    "        depth = 1\n",
    "        while layer:\n",
    "            templayer = []\n",
    "            for n in layer:\n",
    "                if n.left:\n",
    "                    templayer.append(n.left)\n",
    "                if n.right:\n",
    "                    templayer.append(n.right)\n",
    "            layer = templayer\n",
    "            if len(layer)>0:\n",
    "                depth = depth + 1\n",
    "        return depth\n",
    "    \n",
    "# 使用递归的方法\n",
    "class Solution:\n",
    "    def TreeDepth(self, pRoot):\n",
    "        if pRoot == None:\n",
    "            return 0\n",
    "        left = self.TreeDepth(pRoot.left)+1\n",
    "        right = self.TreeDepth(pRoot.right)+1\n",
    "        return max(left,right)"
   ]
  },
  {
   "cell_type": "markdown",
   "metadata": {},
   "source": [
    "### 树的子结构\n",
    "输入两棵二叉树A，B，判断B是不是A的子结构。（ps：我们约定空树不是任意一个树的子结构）"
   ]
  },
  {
   "cell_type": "code",
   "execution_count": null,
   "metadata": {},
   "outputs": [],
   "source": [
    "# -*- coding:utf-8 -*-\n",
    "# class TreeNode:\n",
    "#     def __init__(self, x):\n",
    "#         self.val = x\n",
    "#         self.left = None\n",
    "#         self.right = None\n",
    "class Solution:\n",
    "    def ifsame(self,r1,r2): # 当根节点相同时判断是否又子结构\n",
    "        if r2 == None:\n",
    "            return True\n",
    "        if r1 == None:\n",
    "            return False\n",
    "        if r1.val == r2.val:\n",
    "            return self.ifsame(r1.left,r2.left) and self.ifsame(r1.right,r2.right)\n",
    "        else:\n",
    "            return False\n",
    "        \n",
    "    def HasSubtree(self, pRoot1, pRoot2): # 当根节点不同时，寻找是否有相同的根\n",
    "        # write code here\n",
    "        if pRoot1 == None or pRoot2 == None:\n",
    "            return False\n",
    "        else:\n",
    "            return self.ifsame( pRoot1, pRoot2) or self.HasSubtree(pRoot1.left,pRoot2) or self.HasSubtree(pRoot1.right,pRoot2)\n",
    "                   # 先比较根是否相同，不同的话进入左右子节点进行比较"
   ]
  },
  {
   "cell_type": "markdown",
   "metadata": {},
   "source": [
    "### 二叉树的镜像\n",
    "操作给定的二叉树，将其变换为源二叉树的镜像。"
   ]
  },
  {
   "cell_type": "code",
   "execution_count": null,
   "metadata": {},
   "outputs": [],
   "source": [
    "class Solution:\n",
    "    # 返回镜像树的根节点\n",
    "    def Mirror(self, root):\n",
    "        # write code here\n",
    "        if root == None: # 当遇到末端时结束\n",
    "            return root\n",
    "        temp = root.left # 交换左右子树\n",
    "        root.left = root.right\n",
    "        root.right = temp\n",
    "        self.Mirror(root.left) # 继续以左右子节点为根继续交换\n",
    "        self.Mirror(root.right)\n",
    "        return root"
   ]
  },
  {
   "cell_type": "markdown",
   "metadata": {},
   "source": [
    "### 二叉搜索树的后续遍历\n",
    "输入一个整数数组，判断该数组是不是某二叉搜索树的后序遍历的结果。如果是则输出Yes,否则输出No。假设输入的数组的任意两个数字都互不相同。\n",
    "\n",
    "思路：BST的后序序列的合法序列是，对于一个序列S，最后一个元素是x （也就是根），如果去掉最后一个元素的序列为T，那么T满足：T可以分成两段，前一段（左子树）小于x，后一段（右子树）大于x，且这两段（子树）都是合法的后序序列。"
   ]
  },
  {
   "cell_type": "code",
   "execution_count": null,
   "metadata": {},
   "outputs": [],
   "source": [
    "# -*- coding:utf-8 -*-\n",
    "class Solution:\n",
    "    def help(self, sequence):\n",
    "        if len(sequence) < 3:\n",
    "            return True\n",
    "        i = 0\n",
    "        while sequence[-1] > sequence[i]:\n",
    "            i = i+1\n",
    "        left = sequence[:i]\n",
    "        right = sequence[i:-1]\n",
    "        res = True\n",
    "        for i in right:\n",
    "            res = res and sequence[-1]<i\n",
    "        return res and self.help(left) and self.help(right)\n",
    "        \n",
    "    def VerifySquenceOfBST(self, sequence):\n",
    "        # write code here\n",
    "        if sequence == []:\n",
    "            return False\n",
    "        return self.help(sequence)"
   ]
  },
  {
   "cell_type": "markdown",
   "metadata": {},
   "source": [
    "### 二叉树中某值的路径\n",
    "输入一颗二叉树的跟节点和一个整数，打印出二叉树中结点值的和为输入整数的所有路径。路径定义为从树的根结点开始往下一直到叶结点所经过的结点形成一条路径。(注意: 在返回值的list中，数组长度大的数组靠前)"
   ]
  },
  {
   "cell_type": "code",
   "execution_count": null,
   "metadata": {},
   "outputs": [],
   "source": [
    "# -*- coding:utf-8 -*-\n",
    "# class TreeNode:\n",
    "#     def __init__(self, x):\n",
    "#         self.val = x\n",
    "#         self.left = None\n",
    "#         self.right = None\n",
    "import copy # 需要使用到深拷贝\n",
    "class Solution:\n",
    "    # 返回二维列表，内部每个列表表示找到的路径 \n",
    "    def FindPath(self, root, expectNumber):\n",
    "        # write code here\n",
    "        if root == None:\n",
    "            return []\n",
    "        reslist = []\n",
    "        res = []\n",
    "        def dfs(root):\n",
    "            res.append(root.val)\n",
    "            if root.left == None and root.right==None:\n",
    "                if sum(res) == expectNumber:\n",
    "                    temp = copy.deepcopy(res) # 要用深拷贝创建新的数组\n",
    "                    reslist.append(temp)\n",
    "            if root.left:\n",
    "                dfs(root.left)\n",
    "                res.pop()\n",
    "            if root.right:\n",
    "                dfs(root.right)\n",
    "                res.pop()\n",
    "        dfs(root)\n",
    "        return reslist"
   ]
  },
  {
   "cell_type": "markdown",
   "metadata": {},
   "source": [
    "### 平衡二叉树\n",
    "判断一棵树是不是平衡二叉树，平衡二叉树是指子树和高度差不超过1."
   ]
  },
  {
   "cell_type": "code",
   "execution_count": null,
   "metadata": {},
   "outputs": [],
   "source": [
    "# -*- coding:utf-8 -*-\n",
    "# class TreeNode:\n",
    "#     def __init__(self, x):\n",
    "#         self.val = x\n",
    "#         self.left = None\n",
    "#         self.right = None\n",
    "class Solution:\n",
    "    def depth(self,root):\n",
    "        if root == None:\n",
    "            return 0\n",
    "        left = self.depth(root.left)+1\n",
    "        right = self.depth(root.right)+1\n",
    "        return max(left,right)\n",
    "    def IsBalanced_Solution(self, pRoot):\n",
    "        # write code here\n",
    "        if pRoot == None:\n",
    "            return True\n",
    "        dl = self.depth(pRoot.left)\n",
    "        dr = self.depth(pRoot.right)\n",
    "        return abs(dl-dr)<=1 and self.IsBalanced_Solution(pRoot.left) and self.IsBalanced_Solution(pRoot.right)"
   ]
  },
  {
   "cell_type": "markdown",
   "metadata": {},
   "source": [
    "### 树的下一个节点\n",
    "给定一个二叉树和其中的一个结点，请找出中序遍历顺序的下一个结点并且返回。注意，树中的结点不仅包含左右子结点，同时包含指向父结点的指针。\n",
    "\n",
    "思路：\n",
    "\n",
    "（1） 若该节点存在右子树：则下一个节点为右子树最左子节点（如图节点 B ）\n",
    "\n",
    "（2） 若该节点不存在右子树：这时分两种情况：\n",
    "\n",
    "2.1 该节点为父节点的左子节点，则下一个节点为其父节点（如图节点 D ）\n",
    "\n",
    "2.2 该节点为父节点的右子节点，则沿着父节点向上遍历，知道找到一个节点的父节点的左子节点为该节点，则该节点的父节点下一个节点（如图节点 I ，沿着父节点一直向上查找找到 B （ B 为其父节点的左子节点），则 B 的父节点 A 为下一个节点）。"
   ]
  },
  {
   "cell_type": "code",
   "execution_count": 13,
   "metadata": {},
   "outputs": [],
   "source": [
    "# -*- coding:utf-8 -*-\n",
    "# class TreeLinkNode:\n",
    "#     def __init__(self, x):\n",
    "#         self.val = x\n",
    "#         self.left = None\n",
    "#         self.right = None\n",
    "#         self.next = None\n",
    "class Solution:\n",
    "    def GetNext(self, pNode):\n",
    "        # write code here\n",
    "        if pNode.right: # 是否有又子树\n",
    "            temp = pNode.right\n",
    "            while temp.left:\n",
    "                temp = temp.left # 有则取右子树的最左叶子节点\n",
    "            return temp\n",
    "        elif pNode.next and pNode.next.left == pNode: # 是否为父节点的左孩子\n",
    "            return pNode.next # 有则输出父节点\n",
    "        elif pNode.next and pNode.next.right == pNode: # 是否为父节点的又孩子\n",
    "            temp = pNode.next\n",
    "            while temp.next and temp.next.left != temp: # 是则连续寻找父节点，直到一个让父节点成为左孩子的节点\n",
    "                temp = temp.next\n",
    "            return temp.next if temp.next else None # 没有则说明是右子树的最右叶子节点\n",
    "        else:\n",
    "            return None # 均不是以上情况则返回None"
   ]
  },
  {
   "cell_type": "markdown",
   "metadata": {},
   "source": [
    "### 判断对称树\n",
    "请实现一个函数，用来判断一颗二叉树是不是对称的。注意，如果一个二叉树同此二叉树的镜像是同样的，定义其为对称的。"
   ]
  },
  {
   "cell_type": "code",
   "execution_count": 14,
   "metadata": {},
   "outputs": [],
   "source": [
    "# -*- coding:utf-8 -*-\n",
    "# class TreeNode:\n",
    "#     def __init__(self, x):\n",
    "#         self.val = x\n",
    "#         self.left = None\n",
    "#         self.right = None\n",
    "class Solution:\n",
    "    def isSymmetrical(self, pRoot):\n",
    "        # write code here\n",
    "        if not pRoot: # 如果为空树则直接对称\n",
    "            return True\n",
    "        def issame(left,right):\n",
    "            if (not left) and (not right): # 如果同时触及到底部说明是相等的\n",
    "                return True\n",
    "            elif not(left and right): # 如果只有其中一个触及到底部则不相等\n",
    "                return False\n",
    "            else:\n",
    "                return left.val == right.val and issame(left.left,right.right) and issame(left.right,right.left) \n",
    "                # 如果都没触及到底部则判断值是否相等后再判断子节点\n",
    "        return issame(pRoot.left,pRoot.right)"
   ]
  },
  {
   "cell_type": "markdown",
   "metadata": {},
   "source": [
    "### 二叉搜索树中第K小的值\n",
    "\n",
    "给定一棵二叉搜索树，请找出其中的第k小的结点。例如， （5，3，7，2，4，6，8）    中，按结点数值大小顺序第三小结点的值为4。"
   ]
  },
  {
   "cell_type": "code",
   "execution_count": null,
   "metadata": {},
   "outputs": [],
   "source": [
    "# -*- coding:utf-8 -*-\n",
    "# class TreeNode:\n",
    "#     def __init__(self, x):\n",
    "#         self.val = x\n",
    "#         self.left = None\n",
    "#         self.right = None\n",
    "class Solution:\n",
    "    # 返回对应节点TreeNode\n",
    "    def KthNode(self, pRoot, k):\n",
    "        # write code here\n",
    "        if pRoot == None:\n",
    "            return None\n",
    "        res = []\n",
    "        def dfs(pRoot):\n",
    "            if pRoot.left:\n",
    "                dfs(pRoot.left)\n",
    "            res.append(pRoot)\n",
    "            if pRoot.right:\n",
    "                dfs(pRoot.right)\n",
    "        dfs(pRoot)\n",
    "        if k < 1 or k > len(res):\n",
    "            return None\n",
    "        return res[k-1]"
   ]
  },
  {
   "cell_type": "code",
   "execution_count": null,
   "metadata": {},
   "outputs": [],
   "source": []
  }
 ],
 "metadata": {
  "kernelspec": {
   "display_name": "Python 3",
   "language": "python",
   "name": "python3"
  },
  "language_info": {
   "codemirror_mode": {
    "name": "ipython",
    "version": 3
   },
   "file_extension": ".py",
   "mimetype": "text/x-python",
   "name": "python",
   "nbconvert_exporter": "python",
   "pygments_lexer": "ipython3",
   "version": "3.6.6"
  },
  "toc": {
   "base_numbering": 1,
   "nav_menu": {},
   "number_sections": true,
   "sideBar": true,
   "skip_h1_title": false,
   "title_cell": "Table of Contents",
   "title_sidebar": "Contents",
   "toc_cell": false,
   "toc_position": {},
   "toc_section_display": true,
   "toc_window_display": false
  },
  "varInspector": {
   "cols": {
    "lenName": 16,
    "lenType": 16,
    "lenVar": 40
   },
   "kernels_config": {
    "python": {
     "delete_cmd_postfix": "",
     "delete_cmd_prefix": "del ",
     "library": "var_list.py",
     "varRefreshCmd": "print(var_dic_list())"
    },
    "r": {
     "delete_cmd_postfix": ") ",
     "delete_cmd_prefix": "rm(",
     "library": "var_list.r",
     "varRefreshCmd": "cat(var_dic_list()) "
    }
   },
   "types_to_exclude": [
    "module",
    "function",
    "builtin_function_or_method",
    "instance",
    "_Feature"
   ],
   "window_display": false
  }
 },
 "nbformat": 4,
 "nbformat_minor": 2
}
