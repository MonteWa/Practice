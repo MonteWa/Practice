{
 "cells": [
  {
   "cell_type": "markdown",
   "metadata": {},
   "source": [
    "### 左旋字符串\n",
    "汇编语言中有一种移位指令叫做循环左移（ROL），现在有个简单的任务，就是用字符串模拟这个指令的运算结果。对于一个给定的字符序列S，请你把其循环左移K位后的序列输出。例如，字符序列S=”abcXYZdef”,要求输出循环左移3位后的结果，即“XYZdefabc”。是不是很简单？OK，搞定它！"
   ]
  },
  {
   "cell_type": "markdown",
   "metadata": {},
   "source": [
    "思路：原理：YX = (X.T Y.T).T,既转置X转置Y最后整体转置，就得到两端字符串交换位置。"
   ]
  },
  {
   "cell_type": "code",
   "execution_count": 2,
   "metadata": {},
   "outputs": [
    {
     "name": "stdout",
     "output_type": "stream",
     "text": [
      "cdefgab\n"
     ]
    }
   ],
   "source": [
    "# -*- coding:utf-8 -*-\n",
    "def LeftRotateString(s, n):\n",
    "    # write code here\n",
    "    s = list(s)\n",
    "    def exchange(ss):\n",
    "        temp = 0\n",
    "        if len(ss)%2 == 0:\n",
    "            for i in range(int(len(ss)/2)):\n",
    "                temp = ss[i]\n",
    "                ss[i] = ss[-(i+1)]\n",
    "                ss[-(i+1)] = temp\n",
    "        else:\n",
    "            for i in range(int((len(ss)-1)/2)):\n",
    "                temp = ss[i]\n",
    "                ss[i] = ss[-(i+1)]\n",
    "                ss[-(i+1)] = temp\n",
    "        return ss\n",
    "    s = exchange(s[:n]) + exchange(s[n:])\n",
    "    exchange(s)\n",
    "    res = ''\n",
    "    for i in s:\n",
    "        res=res+i\n",
    "    return res\n",
    "\n",
    "print(LeftRotateString('abcdefg',2))"
   ]
  },
  {
   "cell_type": "code",
   "execution_count": null,
   "metadata": {},
   "outputs": [],
   "source": []
  }
 ],
 "metadata": {
  "kernelspec": {
   "display_name": "Python 3",
   "language": "python",
   "name": "python3"
  },
  "language_info": {
   "codemirror_mode": {
    "name": "ipython",
    "version": 3
   },
   "file_extension": ".py",
   "mimetype": "text/x-python",
   "name": "python",
   "nbconvert_exporter": "python",
   "pygments_lexer": "ipython3",
   "version": "3.6.6"
  },
  "toc": {
   "base_numbering": 1,
   "nav_menu": {},
   "number_sections": true,
   "sideBar": true,
   "skip_h1_title": false,
   "title_cell": "Table of Contents",
   "title_sidebar": "Contents",
   "toc_cell": false,
   "toc_position": {},
   "toc_section_display": true,
   "toc_window_display": false
  },
  "varInspector": {
   "cols": {
    "lenName": 16,
    "lenType": 16,
    "lenVar": 40
   },
   "kernels_config": {
    "python": {
     "delete_cmd_postfix": "",
     "delete_cmd_prefix": "del ",
     "library": "var_list.py",
     "varRefreshCmd": "print(var_dic_list())"
    },
    "r": {
     "delete_cmd_postfix": ") ",
     "delete_cmd_prefix": "rm(",
     "library": "var_list.r",
     "varRefreshCmd": "cat(var_dic_list()) "
    }
   },
   "types_to_exclude": [
    "module",
    "function",
    "builtin_function_or_method",
    "instance",
    "_Feature"
   ],
   "window_display": false
  }
 },
 "nbformat": 4,
 "nbformat_minor": 2
}
