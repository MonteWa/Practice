{
 "cells": [
  {
   "cell_type": "code",
   "execution_count": 4,
   "metadata": {},
   "outputs": [],
   "source": [
    "from IPython.core.debugger import set_trace"
   ]
  },
  {
   "cell_type": "markdown",
   "metadata": {},
   "source": [
    "### 找零钱：\n",
    "考虑仅用1分、5分、10分、25分和50分这5种硬币支付某一个给定的金额。例如需要支付11分钱，有一个1分和一个10分、一个1分和两个5分、六个1分和一个5分、十一个1分这4种方式。请写一个程序，计算一个给定的金额有几种支付方式。注：假定支付0元有1种方式。"
   ]
  },
  {
   "cell_type": "markdown",
   "metadata": {},
   "source": [
    "思路：使用动态规划,dp[i][j]表示当零钱取change[0]到change[i]时，组成钱数为j的的组合个数，以11为例看下图：\n",
    "<div align=\"center\">\n",
    "<img src=\"graph/IMG_0638.JPG\" width=500>\n",
    "</div>"
   ]
  },
  {
   "cell_type": "code",
   "execution_count": 9,
   "metadata": {},
   "outputs": [
    {
     "name": "stdout",
     "output_type": "stream",
     "text": [
      "4\n"
     ]
    }
   ],
   "source": [
    "def func(num):\n",
    "    dp = [[0 for i in range(num+1)] for  j in range(5)] #生成矩阵的方法\n",
    "    change = [1,5,10,25,50]\n",
    "\n",
    "    for i in range(5):\n",
    "        dp[i][0] = 1\n",
    "\n",
    "    for i in range(num+1):\n",
    "        dp[0][i] = 1\n",
    "\n",
    "    for i in range(1,5):\n",
    "        for j in range(1,num+1):\n",
    "            if change[i]>j:\n",
    "                dp[i][j] = dp[i-1][j]\n",
    "            else:\n",
    "                temp = 0\n",
    "                for m in range(j//change[i]+1):\n",
    "                    temp = temp + dp[i-1][j-m*change[i]]\n",
    "                dp[i][j]=temp\n",
    "    return dp[4][num]\n",
    "\n",
    "print(func(11))"
   ]
  },
  {
   "cell_type": "code",
   "execution_count": null,
   "metadata": {},
   "outputs": [],
   "source": []
  }
 ],
 "metadata": {
  "kernelspec": {
   "display_name": "Python 3",
   "language": "python",
   "name": "python3"
  },
  "language_info": {
   "codemirror_mode": {
    "name": "ipython",
    "version": 3
   },
   "file_extension": ".py",
   "mimetype": "text/x-python",
   "name": "python",
   "nbconvert_exporter": "python",
   "pygments_lexer": "ipython3",
   "version": "3.6.6"
  },
  "toc": {
   "base_numbering": 1,
   "nav_menu": {},
   "number_sections": true,
   "sideBar": true,
   "skip_h1_title": false,
   "title_cell": "Table of Contents",
   "title_sidebar": "Contents",
   "toc_cell": false,
   "toc_position": {},
   "toc_section_display": true,
   "toc_window_display": false
  },
  "varInspector": {
   "cols": {
    "lenName": 16,
    "lenType": 16,
    "lenVar": 40
   },
   "kernels_config": {
    "python": {
     "delete_cmd_postfix": "",
     "delete_cmd_prefix": "del ",
     "library": "var_list.py",
     "varRefreshCmd": "print(var_dic_list())"
    },
    "r": {
     "delete_cmd_postfix": ") ",
     "delete_cmd_prefix": "rm(",
     "library": "var_list.r",
     "varRefreshCmd": "cat(var_dic_list()) "
    }
   },
   "types_to_exclude": [
    "module",
    "function",
    "builtin_function_or_method",
    "instance",
    "_Feature"
   ],
   "window_display": false
  }
 },
 "nbformat": 4,
 "nbformat_minor": 2
}
